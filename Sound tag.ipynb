{
 "cells": [
  {
   "cell_type": "code",
   "execution_count": 1,
   "metadata": {},
   "outputs": [
    {
     "name": "stderr",
     "output_type": "stream",
     "text": [
      "Using TensorFlow backend.\n"
     ]
    },
    {
     "name": "stdout",
     "output_type": "stream",
     "text": [
      "INFO:tensorflow:Restoring parameters from audioset/vggish_model.ckpt\n"
     ]
    }
   ],
   "source": [
    "# Import the required functions\n",
    "import numpy as np\n",
    "import youtube_dl\n",
    "\n",
    "from inference import run_inference_model, labels_to_classes"
   ]
  },
  {
   "cell_type": "code",
   "execution_count": 2,
   "metadata": {},
   "outputs": [],
   "source": [
    "def dl_yt(link):\n",
    "    ydl_opts = {\n",
    "    'format': 'bestaudio/best',\n",
    "    'postprocessors': [{\n",
    "        'key': 'FFmpegExtractAudio',\n",
    "        'preferredcodec': 'wav',\n",
    "        'preferredquality': '192',\n",
    "    }],\n",
    "    }\n",
    "\n",
    "    with youtube_dl.YoutubeDL(ydl_opts) as ydl:\n",
    "        res = ydl.download([link])"
   ]
  },
  {
   "cell_type": "code",
   "execution_count": 9,
   "metadata": {},
   "outputs": [
    {
     "name": "stderr",
     "output_type": "stream",
     "text": [
      "/home/nikola/Documents/Work/audio_tag/venv/lib/python3.6/site-packages/scipy/io/wavfile.py:273: WavFileWarning: Chunk (non-data) not understood, skipping it.\n",
      "  WavFileWarning)\n"
     ]
    },
    {
     "name": "stdout",
     "output_type": "stream",
     "text": [
      "(210, 257)\n",
      "(210, 64)\n",
      "['Acoustic_guitar', 'Violin_or_fiddle', 'Finger_snapping', 'Cello', 'Snare_drum']\n",
      "[0.0000000e+00 0.0000000e+00 0.0000000e+00 0.0000000e+00 7.4374964e-38\n",
      " 0.0000000e+00 0.0000000e+00 0.0000000e+00 0.0000000e+00 0.0000000e+00\n",
      " 1.0000000e+00 0.0000000e+00 0.0000000e+00 0.0000000e+00 0.0000000e+00\n",
      " 0.0000000e+00 0.0000000e+00 0.0000000e+00 0.0000000e+00 0.0000000e+00\n",
      " 0.0000000e+00 0.0000000e+00 0.0000000e+00 0.0000000e+00 0.0000000e+00\n",
      " 0.0000000e+00 0.0000000e+00 0.0000000e+00 0.0000000e+00 0.0000000e+00\n",
      " 0.0000000e+00 0.0000000e+00 0.0000000e+00 0.0000000e+00 0.0000000e+00\n",
      " 0.0000000e+00 0.0000000e+00 0.0000000e+00 0.0000000e+00 0.0000000e+00\n",
      " 0.0000000e+00]\n",
      "['Violin_or_fiddle', 'Finger_snapping', 'Snare_drum', 'Cello', 'Trumpet']\n",
      "[0.0000000e+00 0.0000000e+00 9.9999988e-01 0.0000000e+00 1.5893266e-07\n",
      " 0.0000000e+00 0.0000000e+00 0.0000000e+00 0.0000000e+00 0.0000000e+00\n",
      " 6.0138579e-09 0.0000000e+00 0.0000000e+00 0.0000000e+00 0.0000000e+00\n",
      " 0.0000000e+00 0.0000000e+00 0.0000000e+00 0.0000000e+00 0.0000000e+00\n",
      " 0.0000000e+00 0.0000000e+00 0.0000000e+00 0.0000000e+00 0.0000000e+00\n",
      " 0.0000000e+00 0.0000000e+00 0.0000000e+00 0.0000000e+00 0.0000000e+00\n",
      " 0.0000000e+00 0.0000000e+00 0.0000000e+00 0.0000000e+00 0.0000000e+00\n",
      " 0.0000000e+00 0.0000000e+00 0.0000000e+00 0.0000000e+00 0.0000000e+00\n",
      " 0.0000000e+00]\n"
     ]
    }
   ],
   "source": [
    "# Run inference\n",
    "inference_result = run_inference_model(\"test_files/snare_drums.wav\", \"models/trained_model_snn.ckpt\")\n",
    "for j in range(len(inference_result)):\n",
    "    print(labels_to_classes(sorted(range(len(inference_result[j])), key=lambda i: inference_result[j, i])[-5:]))\n",
    "    print(inference_result[j])"
   ]
  },
  {
   "cell_type": "code",
   "execution_count": 49,
   "metadata": {},
   "outputs": [
    {
     "name": "stdout",
     "output_type": "stream",
     "text": [
      "(700, 257)\n",
      "(700, 64)\n",
      "['Applause', 'Acoustic_guitar', 'Violin_or_fiddle', 'Finger_snapping', 'Fireworks']\n",
      "['Applause', 'Acoustic_guitar', 'Violin_or_fiddle', 'Finger_snapping', 'Fireworks']\n",
      "['Acoustic_guitar', 'Violin_or_fiddle', 'Finger_snapping', 'Trumpet', 'Fireworks']\n",
      "['Applause', 'Acoustic_guitar', 'Violin_or_fiddle', 'Finger_snapping', 'Trumpet']\n",
      "['Violin_or_fiddle', 'Finger_snapping', 'Writing', 'Fireworks', 'Trumpet']\n",
      "['Acoustic_guitar', 'Violin_or_fiddle', 'Finger_snapping', 'Fireworks', 'Cello']\n",
      "['Applause', 'Acoustic_guitar', 'Violin_or_fiddle', 'Finger_snapping', 'Cello']\n"
     ]
    }
   ],
   "source": [
    "inference_result = run_inference_model(\"test_files/fireworks.wav\", \"models/trained_model_snn.ckpt\")\n",
    "for j in range(len(inference_result)):\n",
    "    print(labels_to_classes(sorted(range(len(inference_result[j])), key=lambda i: inference_result[j, i])[-5:]))"
   ]
  },
  {
   "cell_type": "code",
   "execution_count": 31,
   "metadata": {},
   "outputs": [
    {
     "name": "stdout",
     "output_type": "stream",
     "text": [
      "[youtube] xboxkrczd8U: Downloading webpage\n",
      "[youtube] xboxkrczd8U: Downloading video info webpage\n",
      "[download] Destination: Joke Drum Beat!-xboxkrczd8U.m4a\n",
      "[download] 100% of 94.65KiB in 00:0039MiB/s ETA 00:000\n",
      "[ffmpeg] Correcting container in \"Joke Drum Beat!-xboxkrczd8U.m4a\"\n",
      "[ffmpeg] Destination: Joke Drum Beat!-xboxkrczd8U.wav\n",
      "Deleting original file Joke Drum Beat!-xboxkrczd8U.m4a (pass -k to keep)\n"
     ]
    }
   ],
   "source": [
    "ydl_opts = {\n",
    "    'format': 'bestaudio/best',\n",
    "    'postprocessors': [{\n",
    "        'key': 'FFmpegExtractAudio',\n",
    "        'preferredcodec': 'wav',\n",
    "        'preferredquality': '192',\n",
    "    }],\n",
    "}\n",
    "\n",
    "with youtube_dl.YoutubeDL(ydl_opts) as ydl:\n",
    "    res = ydl.download(['https://youtu.be/xboxkrczd8U'])"
   ]
  },
  {
   "cell_type": "code",
   "execution_count": 50,
   "metadata": {},
   "outputs": [
    {
     "name": "stdout",
     "output_type": "stream",
     "text": [
      "(604, 257)\n",
      "(604, 64)\n",
      "['Acoustic_guitar', 'Violin_or_fiddle', 'Finger_snapping', 'Cello', 'Trumpet']\n",
      "['Applause', 'Acoustic_guitar', 'Violin_or_fiddle', 'Finger_snapping', 'Cello']\n",
      "['Acoustic_guitar', 'Violin_or_fiddle', 'Finger_snapping', 'Snare_drum', 'Trumpet']\n",
      "['Violin_or_fiddle', 'Finger_snapping', 'Trumpet', 'Snare_drum', 'Cello']\n",
      "['Applause', 'Acoustic_guitar', 'Violin_or_fiddle', 'Finger_snapping', 'Cello']\n",
      "['Applause', 'Acoustic_guitar', 'Violin_or_fiddle', 'Finger_snapping', 'Cello']\n"
     ]
    }
   ],
   "source": [
    "inference_result = run_inference_model(\"Joke Drum Beat!-xboxkrczd8U.wav\", \"models/trained_model_snn.ckpt\")\n",
    "for j in range(len(inference_result)):\n",
    "    print(labels_to_classes(sorted(range(len(inference_result[j])), key=lambda i: inference_result[j, i])[-5:]))"
   ]
  },
  {
   "cell_type": "code",
   "execution_count": 54,
   "metadata": {},
   "outputs": [
    {
     "name": "stdout",
     "output_type": "stream",
     "text": [
      "[youtube] hEks7EScBnM: Downloading webpage\n",
      "[youtube] hEks7EScBnM: Downloading video info webpage\n",
      "[download] Destination: Dog Barking Sound Effect _ Royalty Free Sound Effects _ Sound Effects _ Good Vibes-hEks7EScBnM.m4a\n",
      "[download] 100% of 234.99KiB in 00:0003MiB/s ETA 00:00known ETA\n",
      "[ffmpeg] Correcting container in \"Dog Barking Sound Effect _ Royalty Free Sound Effects _ Sound Effects _ Good Vibes-hEks7EScBnM.m4a\"\n",
      "[ffmpeg] Destination: Dog Barking Sound Effect _ Royalty Free Sound Effects _ Sound Effects _ Good Vibes-hEks7EScBnM.wav\n",
      "Deleting original file Dog Barking Sound Effect _ Royalty Free Sound Effects _ Sound Effects _ Good Vibes-hEks7EScBnM.m4a (pass -k to keep)\n"
     ]
    }
   ],
   "source": [
    "ydl_opts = {\n",
    "    'format': 'bestaudio/best',\n",
    "    'postprocessors': [{\n",
    "        'key': 'FFmpegExtractAudio',\n",
    "        'preferredcodec': 'wav',\n",
    "        'preferredquality': '192',\n",
    "    }],\n",
    "}\n",
    "\n",
    "with youtube_dl.YoutubeDL(ydl_opts) as ydl:\n",
    "    res = ydl.download(['https://youtu.be/hEks7EScBnM'])"
   ]
  },
  {
   "cell_type": "code",
   "execution_count": 56,
   "metadata": {},
   "outputs": [
    {
     "name": "stdout",
     "output_type": "stream",
     "text": [
      "(1507, 257)\n",
      "(1507, 64)\n",
      "['Applause', 'Acoustic_guitar', 'Violin_or_fiddle', 'Finger_snapping', 'Cello']\n",
      "['Finger_snapping', 'Laughter', 'Fireworks', 'Squeak', 'Bark']\n",
      "['Violin_or_fiddle', 'Finger_snapping', 'Cello', 'Writing', 'Fireworks']\n",
      "['Applause', 'Acoustic_guitar', 'Violin_or_fiddle', 'Finger_snapping', 'Fireworks']\n",
      "['Applause', 'Acoustic_guitar', 'Violin_or_fiddle', 'Finger_snapping', 'Fireworks']\n",
      "['Applause', 'Acoustic_guitar', 'Violin_or_fiddle', 'Finger_snapping', 'Cello']\n",
      "['Acoustic_guitar', 'Violin_or_fiddle', 'Finger_snapping', 'Cello', 'Fireworks']\n",
      "['Applause', 'Acoustic_guitar', 'Violin_or_fiddle', 'Finger_snapping', 'Cello']\n",
      "['Violin_or_fiddle', 'Finger_snapping', 'Trumpet', 'Tearing', 'Fireworks']\n",
      "['Acoustic_guitar', 'Violin_or_fiddle', 'Finger_snapping', 'Fireworks', 'Cello']\n",
      "['Acoustic_guitar', 'Violin_or_fiddle', 'Finger_snapping', 'Tearing', 'Fireworks']\n",
      "['Violin_or_fiddle', 'Finger_snapping', 'Bark', 'Squeak', 'Tearing']\n",
      "['Violin_or_fiddle', 'Finger_snapping', 'Fireworks', 'Tearing', 'Cello']\n",
      "['Applause', 'Acoustic_guitar', 'Violin_or_fiddle', 'Finger_snapping', 'Tearing']\n",
      "['Applause', 'Acoustic_guitar', 'Violin_or_fiddle', 'Finger_snapping', 'Fireworks']\n"
     ]
    }
   ],
   "source": [
    "inference_result = run_inference_model(\"Dog Barking Sound Effect _ Royalty Free Sound Effects _ Sound Effects _ Good Vibes-hEks7EScBnM.wav\", \"models/trained_model_snn.ckpt\")\n",
    "for j in range(len(inference_result)):\n",
    "    print(labels_to_classes(sorted(range(len(inference_result[j])), key=lambda i: inference_result[j, i])[-5:]))"
   ]
  },
  {
   "cell_type": "code",
   "execution_count": 58,
   "metadata": {},
   "outputs": [
    {
     "name": "stdout",
     "output_type": "stream",
     "text": [
      "[youtube] heAw4z71lvo: Downloading webpage\n",
      "[youtube] heAw4z71lvo: Downloading video info webpage\n",
      "[download] Destination: Applause sound effect-heAw4z71lvo.m4a\n",
      "[download] 100% of 281.54KiB in 00:0089MiB/s ETA 00:00known ETA\n",
      "[ffmpeg] Correcting container in \"Applause sound effect-heAw4z71lvo.m4a\"\n",
      "[ffmpeg] Destination: Applause sound effect-heAw4z71lvo.wav\n",
      "Deleting original file Applause sound effect-heAw4z71lvo.m4a (pass -k to keep)\n"
     ]
    }
   ],
   "source": [
    "ydl_opts = {\n",
    "    'format': 'bestaudio/best',\n",
    "    'postprocessors': [{\n",
    "        'key': 'FFmpegExtractAudio',\n",
    "        'preferredcodec': 'wav',\n",
    "        'preferredquality': '192',\n",
    "    }],\n",
    "}\n",
    "\n",
    "with youtube_dl.YoutubeDL(ydl_opts) as ydl:\n",
    "    res = ydl.download(['https://www.youtube.com/watch?v=heAw4z71lvo'])"
   ]
  },
  {
   "cell_type": "code",
   "execution_count": 59,
   "metadata": {},
   "outputs": [
    {
     "name": "stdout",
     "output_type": "stream",
     "text": [
      "(1809, 257)\n",
      "(1809, 64)\n",
      "['Acoustic_guitar', 'Violin_or_fiddle', 'Finger_snapping', 'Cello', 'Trumpet']\n",
      "['Acoustic_guitar', 'Violin_or_fiddle', 'Finger_snapping', 'Cello', 'Trumpet']\n",
      "['Violin_or_fiddle', 'Finger_snapping', 'Fireworks', 'Cello', 'Trumpet']\n",
      "['Applause', 'Acoustic_guitar', 'Violin_or_fiddle', 'Finger_snapping', 'Fireworks']\n",
      "['Violin_or_fiddle', 'Finger_snapping', 'Cello', 'Fireworks', 'Trumpet']\n",
      "['Applause', 'Acoustic_guitar', 'Violin_or_fiddle', 'Finger_snapping', 'Trumpet']\n",
      "['Applause', 'Acoustic_guitar', 'Violin_or_fiddle', 'Finger_snapping', 'Trumpet']\n",
      "['Violin_or_fiddle', 'Finger_snapping', 'Fireworks', 'Cello', 'Trumpet']\n",
      "['Violin_or_fiddle', 'Finger_snapping', 'Cello', 'Fireworks', 'Trumpet']\n",
      "['Applause', 'Acoustic_guitar', 'Violin_or_fiddle', 'Finger_snapping', 'Trumpet']\n",
      "['Acoustic_guitar', 'Violin_or_fiddle', 'Finger_snapping', 'Cello', 'Trumpet']\n",
      "['Acoustic_guitar', 'Violin_or_fiddle', 'Finger_snapping', 'Trumpet', 'Cello']\n",
      "['Violin_or_fiddle', 'Finger_snapping', 'Cello', 'Fireworks', 'Trumpet']\n",
      "['Violin_or_fiddle', 'Finger_snapping', 'Fireworks', 'Trumpet', 'Cello']\n",
      "['Acoustic_guitar', 'Violin_or_fiddle', 'Finger_snapping', 'Trumpet', 'Cello']\n",
      "['Acoustic_guitar', 'Violin_or_fiddle', 'Finger_snapping', 'Cello', 'Trumpet']\n",
      "['Applause', 'Acoustic_guitar', 'Violin_or_fiddle', 'Finger_snapping', 'Fireworks']\n",
      "['Acoustic_guitar', 'Violin_or_fiddle', 'Finger_snapping', 'Cello', 'Fireworks']\n"
     ]
    }
   ],
   "source": [
    "inference_result = run_inference_model(\"Applause sound effect-heAw4z71lvo.wav\", \"models/trained_model_snn.ckpt\")\n",
    "for j in range(len(inference_result)):\n",
    "    print(labels_to_classes(sorted(range(len(inference_result[j])), key=lambda i: inference_result[j, i])[-5:]))"
   ]
  },
  {
   "cell_type": "code",
   "execution_count": 60,
   "metadata": {},
   "outputs": [
    {
     "name": "stdout",
     "output_type": "stream",
     "text": [
      "[youtube] UmY_HDNzNVY: Downloading webpage\n",
      "[youtube] UmY_HDNzNVY: Downloading video info webpage\n",
      "[download] Destination: Gunfire Sound Effect Test-UmY_HDNzNVY.m4a\n",
      "[download] 100% of 36.35KiB in 00:0025MiB/s ETA 00:000\n",
      "[ffmpeg] Correcting container in \"Gunfire Sound Effect Test-UmY_HDNzNVY.m4a\"\n",
      "[ffmpeg] Destination: Gunfire Sound Effect Test-UmY_HDNzNVY.wav\n",
      "Deleting original file Gunfire Sound Effect Test-UmY_HDNzNVY.m4a (pass -k to keep)\n"
     ]
    }
   ],
   "source": [
    "ydl_opts = {\n",
    "    'format': 'bestaudio/best',\n",
    "    'postprocessors': [{\n",
    "        'key': 'FFmpegExtractAudio',\n",
    "        'preferredcodec': 'wav',\n",
    "        'preferredquality': '192',\n",
    "    }],\n",
    "}\n",
    "\n",
    "with youtube_dl.YoutubeDL(ydl_opts) as ydl:\n",
    "    res = ydl.download(['https://youtu.be/UmY_HDNzNVY'])"
   ]
  },
  {
   "cell_type": "code",
   "execution_count": 62,
   "metadata": {},
   "outputs": [
    {
     "name": "stdout",
     "output_type": "stream",
     "text": [
      "(228, 257)\n",
      "(228, 64)\n",
      "['Applause', 'Acoustic_guitar', 'Violin_or_fiddle', 'Finger_snapping', 'Writing']\n",
      "['Applause', 'Acoustic_guitar', 'Violin_or_fiddle', 'Finger_snapping', 'Writing']\n"
     ]
    }
   ],
   "source": [
    "inference_result = run_inference_model(\"Gunfire Sound Effect Test-UmY_HDNzNVY.wav\", \"models/trained_model_snn.ckpt\")\n",
    "for j in range(len(inference_result)):\n",
    "    print(labels_to_classes(sorted(range(len(inference_result[j])), key=lambda i: inference_result[j, i])[-5:]))"
   ]
  },
  {
   "cell_type": "code",
   "execution_count": 63,
   "metadata": {},
   "outputs": [
    {
     "name": "stdout",
     "output_type": "stream",
     "text": [
      "[youtube] iiYGN05vfgM: Downloading webpage\n",
      "[youtube] iiYGN05vfgM: Downloading video info webpage\n"
     ]
    },
    {
     "name": "stderr",
     "output_type": "stream",
     "text": [
      "WARNING: unable to extract uploader nickname\n",
      "WARNING: unable to extract channel id; please report this issue on https://yt-dl.org/bug . Make sure you are using the latest version; see  https://yt-dl.org/update  on how to update. Be sure to call youtube-dl with the --verbose flag and include its complete output.\n"
     ]
    },
    {
     "name": "stdout",
     "output_type": "stream",
     "text": [
      "[download] Destination: Crowd Laughing Sound effect-iiYGN05vfgM.m4a\n",
      "[download] 100% of 80.26KiB in 00:0067MiB/s ETA 00:000\n",
      "[ffmpeg] Correcting container in \"Crowd Laughing Sound effect-iiYGN05vfgM.m4a\"\n",
      "[ffmpeg] Destination: Crowd Laughing Sound effect-iiYGN05vfgM.wav\n",
      "Deleting original file Crowd Laughing Sound effect-iiYGN05vfgM.m4a (pass -k to keep)\n"
     ]
    }
   ],
   "source": [
    "ydl_opts = {\n",
    "    'format': 'bestaudio/best',\n",
    "    'postprocessors': [{\n",
    "        'key': 'FFmpegExtractAudio',\n",
    "        'preferredcodec': 'wav',\n",
    "        'preferredquality': '192',\n",
    "    }],\n",
    "}\n",
    "\n",
    "with youtube_dl.YoutubeDL(ydl_opts) as ydl:\n",
    "    res = ydl.download(['https://youtu.be/iiYGN05vfgM'])"
   ]
  },
  {
   "cell_type": "code",
   "execution_count": 64,
   "metadata": {},
   "outputs": [
    {
     "name": "stdout",
     "output_type": "stream",
     "text": [
      "(511, 257)\n",
      "(511, 64)\n",
      "['Applause', 'Acoustic_guitar', 'Violin_or_fiddle', 'Finger_snapping', 'Trumpet']\n",
      "['Applause', 'Acoustic_guitar', 'Violin_or_fiddle', 'Finger_snapping', 'Trumpet']\n",
      "['Acoustic_guitar', 'Violin_or_fiddle', 'Finger_snapping', 'Cello', 'Fireworks']\n",
      "['Violin_or_fiddle', 'Finger_snapping', 'Trumpet', 'Cello', 'Fireworks']\n",
      "['Violin_or_fiddle', 'Finger_snapping', 'Fireworks', 'Trumpet', 'Cello']\n"
     ]
    }
   ],
   "source": [
    "inference_result = run_inference_model(\"Crowd Laughing Sound effect-iiYGN05vfgM.wav\", \"models/trained_model_snn.ckpt\")\n",
    "for j in range(len(inference_result)):\n",
    "    print(labels_to_classes(sorted(range(len(inference_result[j])), key=lambda i: inference_result[j, i])[-5:]))"
   ]
  },
  {
   "cell_type": "code",
   "execution_count": 4,
   "metadata": {},
   "outputs": [
    {
     "name": "stdout",
     "output_type": "stream",
     "text": [
      "[youtube] 3yf2ohLNgVo: Downloading webpage\n",
      "[youtube] 3yf2ohLNgVo: Downloading video info webpage\n",
      "[download] Destination: Colt 1911 gunfire sound effect-3yf2ohLNgVo.m4a\n",
      "[download] 100% of 76.29KiB in 00:0883KiB/s ETA 00:00\n",
      "[ffmpeg] Correcting container in \"Colt 1911 gunfire sound effect-3yf2ohLNgVo.m4a\"\n",
      "[ffmpeg] Destination: Colt 1911 gunfire sound effect-3yf2ohLNgVo.wav\n",
      "Deleting original file Colt 1911 gunfire sound effect-3yf2ohLNgVo.m4a (pass -k to keep)\n"
     ]
    }
   ],
   "source": [
    "dl_yt(\"https://www.youtube.com/watch?v=3yf2ohLNgVo\")"
   ]
  },
  {
   "cell_type": "code",
   "execution_count": 7,
   "metadata": {},
   "outputs": [
    {
     "name": "stdout",
     "output_type": "stream",
     "text": [
      "(486, 257)\n",
      "(486, 64)\n",
      "['Applause', 'Acoustic_guitar', 'Violin_or_fiddle', 'Finger_snapping', 'Trumpet']\n",
      "[0. 0. 1. 0. 0. 0. 0. 0. 0. 0. 0. 0. 0. 0. 0. 0. 0. 0. 0. 0. 0. 0. 0. 0.\n",
      " 0. 0. 0. 0. 0. 0. 0. 0. 0. 0. 0. 0. 0. 0. 0. 0. 0.]\n",
      "['Acoustic_guitar', 'Violin_or_fiddle', 'Finger_snapping', 'Cello', 'Fireworks']\n",
      "[0.00000000e+00 0.00000000e+00 0.00000000e+00 0.00000000e+00\n",
      " 1.11446054e-10 0.00000000e+00 0.00000000e+00 0.00000000e+00\n",
      " 0.00000000e+00 0.00000000e+00 0.00000000e+00 0.00000000e+00\n",
      " 0.00000000e+00 0.00000000e+00 0.00000000e+00 0.00000000e+00\n",
      " 0.00000000e+00 0.00000000e+00 0.00000000e+00 0.00000000e+00\n",
      " 0.00000000e+00 0.00000000e+00 0.00000000e+00 0.00000000e+00\n",
      " 0.00000000e+00 0.00000000e+00 0.00000000e+00 0.00000000e+00\n",
      " 0.00000000e+00 0.00000000e+00 0.00000000e+00 1.00000000e+00\n",
      " 0.00000000e+00 0.00000000e+00 0.00000000e+00 0.00000000e+00\n",
      " 0.00000000e+00 0.00000000e+00 0.00000000e+00 0.00000000e+00\n",
      " 0.00000000e+00]\n",
      "['Trumpet', 'Writing', 'Cello', 'Tearing', 'Fireworks']\n",
      "[0.0000000e+00 0.0000000e+00 3.2438299e-36 0.0000000e+00 5.1031260e-28\n",
      " 0.0000000e+00 0.0000000e+00 0.0000000e+00 0.0000000e+00 0.0000000e+00\n",
      " 0.0000000e+00 5.9315431e-31 0.0000000e+00 3.5544495e-22 0.0000000e+00\n",
      " 0.0000000e+00 0.0000000e+00 0.0000000e+00 0.0000000e+00 0.0000000e+00\n",
      " 0.0000000e+00 0.0000000e+00 0.0000000e+00 0.0000000e+00 0.0000000e+00\n",
      " 0.0000000e+00 0.0000000e+00 0.0000000e+00 0.0000000e+00 0.0000000e+00\n",
      " 0.0000000e+00 1.0000000e+00 0.0000000e+00 0.0000000e+00 0.0000000e+00\n",
      " 0.0000000e+00 0.0000000e+00 0.0000000e+00 0.0000000e+00 0.0000000e+00\n",
      " 0.0000000e+00]\n",
      "['Applause', 'Acoustic_guitar', 'Violin_or_fiddle', 'Finger_snapping', 'Cello']\n",
      "[0. 0. 0. 0. 1. 0. 0. 0. 0. 0. 0. 0. 0. 0. 0. 0. 0. 0. 0. 0. 0. 0. 0. 0.\n",
      " 0. 0. 0. 0. 0. 0. 0. 0. 0. 0. 0. 0. 0. 0. 0. 0. 0.]\n",
      "['Applause', 'Acoustic_guitar', 'Violin_or_fiddle', 'Finger_snapping', 'Fireworks']\n",
      "[0. 0. 0. 0. 0. 0. 0. 0. 0. 0. 0. 0. 0. 0. 0. 0. 0. 0. 0. 0. 0. 0. 0. 0.\n",
      " 0. 0. 0. 0. 0. 0. 0. 1. 0. 0. 0. 0. 0. 0. 0. 0. 0.]\n"
     ]
    }
   ],
   "source": [
    "inference_result = run_inference_model(\"Colt 1911 gunfire sound effect-3yf2ohLNgVo.wav\", \"models/trained_model_snn.ckpt\")\n",
    "for j in range(len(inference_result)):\n",
    "    print(labels_to_classes(sorted(range(len(inference_result[j])), key=lambda i: inference_result[j, i])[-5:]))\n",
    "    print(inference_result[j])"
   ]
  }
 ],
 "metadata": {
  "kernelspec": {
   "display_name": "Python 3",
   "language": "python",
   "name": "python3"
  },
  "language_info": {
   "codemirror_mode": {
    "name": "ipython",
    "version": 3.0
   },
   "file_extension": ".py",
   "mimetype": "text/x-python",
   "name": "python",
   "nbconvert_exporter": "python",
   "pygments_lexer": "ipython3",
   "version": "3.6.7"
  }
 },
 "nbformat": 4,
 "nbformat_minor": 0
}