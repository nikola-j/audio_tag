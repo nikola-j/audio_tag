{
 "cells": [
  {
   "cell_type": "code",
   "execution_count": 1,
   "metadata": {},
   "outputs": [
    {
     "name": "stderr",
     "output_type": "stream",
     "text": [
      "Using TensorFlow backend.\n"
     ]
    },
    {
     "name": "stdout",
     "output_type": "stream",
     "text": [
      "INFO:tensorflow:Restoring parameters from audioset/vggish_model.ckpt\n"
     ]
    }
   ],
   "source": [
    "# Import the required functions\n",
    "import youtube_dl\n",
    "\n",
    "from inference import run_inference_model, labels_to_classes"
   ]
  },
  {
   "cell_type": "code",
   "execution_count": 2,
   "metadata": {},
   "outputs": [],
   "source": [
    "def dl_yt(link):\n",
    "    ydl_opts = {\n",
    "    'format': 'bestaudio/best',\n",
    "    'postprocessors': [{\n",
    "        'key': 'FFmpegExtractAudio',\n",
    "        'preferredcodec': 'wav',\n",
    "        'preferredquality': '192',\n",
    "    }],\n",
    "    }\n",
    "\n",
    "    with youtube_dl.YoutubeDL(ydl_opts) as ydl:\n",
    "        res = ydl.download([link])"
   ]
  },
  {
   "cell_type": "code",
   "execution_count": 3,
   "metadata": {},
   "outputs": [
    {
     "name": "stderr",
     "output_type": "stream",
     "text": [
      "/home/nikola/Documents/Work/audio_tag/venv/lib/python3.6/site-packages/scipy/io/wavfile.py:273: WavFileWarning: Chunk (non-data) not understood, skipping it.\n",
      "  WavFileWarning)\n"
     ]
    },
    {
     "name": "stdout",
     "output_type": "stream",
     "text": [
      "(210, 257)\n",
      "(210, 64)\n",
      "['Acoustic_guitar', 'Violin_or_fiddle', 'Finger_snapping', 'Cello', 'Snare_drum']\n",
      "[0.0000000e+00 0.0000000e+00 0.0000000e+00 0.0000000e+00 7.4374964e-38\n",
      " 0.0000000e+00 0.0000000e+00 0.0000000e+00 0.0000000e+00 0.0000000e+00\n",
      " 1.0000000e+00 0.0000000e+00 0.0000000e+00 0.0000000e+00 0.0000000e+00\n",
      " 0.0000000e+00 0.0000000e+00 0.0000000e+00 0.0000000e+00 0.0000000e+00\n",
      " 0.0000000e+00 0.0000000e+00 0.0000000e+00 0.0000000e+00 0.0000000e+00\n",
      " 0.0000000e+00 0.0000000e+00 0.0000000e+00 0.0000000e+00 0.0000000e+00\n",
      " 0.0000000e+00 0.0000000e+00 0.0000000e+00 0.0000000e+00 0.0000000e+00\n",
      " 0.0000000e+00 0.0000000e+00 0.0000000e+00 0.0000000e+00 0.0000000e+00\n",
      " 0.0000000e+00]\n",
      "['Violin_or_fiddle', 'Finger_snapping', 'Snare_drum', 'Cello', 'Trumpet']\n",
      "[0.0000000e+00 0.0000000e+00 9.9999988e-01 0.0000000e+00 1.5893266e-07\n",
      " 0.0000000e+00 0.0000000e+00 0.0000000e+00 0.0000000e+00 0.0000000e+00\n",
      " 6.0138579e-09 0.0000000e+00 0.0000000e+00 0.0000000e+00 0.0000000e+00\n",
      " 0.0000000e+00 0.0000000e+00 0.0000000e+00 0.0000000e+00 0.0000000e+00\n",
      " 0.0000000e+00 0.0000000e+00 0.0000000e+00 0.0000000e+00 0.0000000e+00\n",
      " 0.0000000e+00 0.0000000e+00 0.0000000e+00 0.0000000e+00 0.0000000e+00\n",
      " 0.0000000e+00 0.0000000e+00 0.0000000e+00 0.0000000e+00 0.0000000e+00\n",
      " 0.0000000e+00 0.0000000e+00 0.0000000e+00 0.0000000e+00 0.0000000e+00\n",
      " 0.0000000e+00]\n"
     ]
    }
   ],
   "source": [
    "# Run inference on a test sample, print out labels and label probs\n",
    "inference_result = run_inference_model(\"test_files/snare_drums.wav\", \"models/trained_model_snn.ckpt\")\n",
    "for j in range(len(inference_result)):\n",
    "    print(labels_to_classes(sorted(range(len(inference_result[j])), key=lambda i: inference_result[j, i])[-5:]))\n",
    "    print(inference_result[j])"
   ]
  },
  {
   "cell_type": "code",
   "execution_count": 4,
   "metadata": {},
   "outputs": [
    {
     "name": "stdout",
     "output_type": "stream",
     "text": [
      "(700, 257)\n",
      "(700, 64)\n",
      "['Applause', 'Acoustic_guitar', 'Violin_or_fiddle', 'Finger_snapping', 'Fireworks']\n",
      "['Applause', 'Acoustic_guitar', 'Violin_or_fiddle', 'Finger_snapping', 'Fireworks']\n",
      "['Acoustic_guitar', 'Violin_or_fiddle', 'Finger_snapping', 'Trumpet', 'Fireworks']\n",
      "['Applause', 'Acoustic_guitar', 'Violin_or_fiddle', 'Finger_snapping', 'Trumpet']\n",
      "['Violin_or_fiddle', 'Finger_snapping', 'Writing', 'Fireworks', 'Trumpet']\n",
      "['Acoustic_guitar', 'Violin_or_fiddle', 'Finger_snapping', 'Fireworks', 'Cello']\n",
      "['Applause', 'Acoustic_guitar', 'Violin_or_fiddle', 'Finger_snapping', 'Cello']\n"
     ]
    }
   ],
   "source": [
    "# Run inference on a test sample, print out labels\n",
    "inference_result = run_inference_model(\"test_files/fireworks.wav\", \"models/trained_model_snn.ckpt\")\n",
    "for j in range(len(inference_result)):\n",
    "    print(labels_to_classes(sorted(range(len(inference_result[j])), key=lambda i: inference_result[j, i])[-5:]))"
   ]
  },
  {
   "cell_type": "code",
   "execution_count": 5,
   "metadata": {},
   "outputs": [
    {
     "name": "stdout",
     "output_type": "stream",
     "text": [
      "[youtube] xboxkrczd8U: Downloading webpage\n",
      "[youtube] xboxkrczd8U: Downloading video info webpage\n",
      "[download] Destination: Joke Drum Beat!-xboxkrczd8U.m4a\n",
      "[download] 100% of 94.65KiB in 00:0021MiB/s ETA 00:000\n",
      "[ffmpeg] Correcting container in \"Joke Drum Beat!-xboxkrczd8U.m4a\"\n",
      "[ffmpeg] Destination: Joke Drum Beat!-xboxkrczd8U.wav\n",
      "Deleting original file Joke Drum Beat!-xboxkrczd8U.m4a (pass -k to keep)\n"
     ]
    }
   ],
   "source": [
    "# Download a video from youtube\n",
    "dl_yt('https://youtu.be/xboxkrczd8U')"
   ]
  },
  {
   "cell_type": "code",
   "execution_count": 6,
   "metadata": {},
   "outputs": [
    {
     "name": "stdout",
     "output_type": "stream",
     "text": [
      "(604, 257)\n",
      "(604, 64)\n",
      "['Acoustic_guitar', 'Violin_or_fiddle', 'Finger_snapping', 'Cello', 'Trumpet']\n",
      "['Applause', 'Acoustic_guitar', 'Violin_or_fiddle', 'Finger_snapping', 'Cello']\n",
      "['Acoustic_guitar', 'Violin_or_fiddle', 'Finger_snapping', 'Snare_drum', 'Trumpet']\n",
      "['Violin_or_fiddle', 'Finger_snapping', 'Trumpet', 'Snare_drum', 'Cello']\n",
      "['Applause', 'Acoustic_guitar', 'Violin_or_fiddle', 'Finger_snapping', 'Cello']\n",
      "['Applause', 'Acoustic_guitar', 'Violin_or_fiddle', 'Finger_snapping', 'Cello']\n"
     ]
    }
   ],
   "source": [
    "# Run inference on it\n",
    "inference_result = run_inference_model(\"Joke Drum Beat!-xboxkrczd8U.wav\", \"models/trained_model_snn.ckpt\")\n",
    "for j in range(len(inference_result)):\n",
    "    print(labels_to_classes(sorted(range(len(inference_result[j])), key=lambda i: inference_result[j, i])[-5:]))"
   ]
  }
 ],
 "metadata": {
  "kernelspec": {
   "display_name": "Python 3",
   "language": "python",
   "name": "python3"
  },
  "language_info": {
   "codemirror_mode": {
    "name": "ipython",
    "version": 3
   },
   "file_extension": ".py",
   "mimetype": "text/x-python",
   "name": "python",
   "nbconvert_exporter": "python",
   "pygments_lexer": "ipython3",
   "version": "3.6.7"
  }
 },
 "nbformat": 4,
 "nbformat_minor": 1
}
